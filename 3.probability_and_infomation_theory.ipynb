{
 "cells": [
  {
   "cell_type": "markdown",
   "metadata": {},
   "source": [
    "## 3 Probability and infomation theory\n",
    "\n",
    "### 3.8 Expectation, Variance and Covariance\n",
    "\n",
    "- Covariance: how much two values are linearly related to each other, as well as the scale of these variables:\n",
    "\n",
    "$$ Cov(f(x),g(y)) = \\mathbb{E}[(f(x)-\\mathbb{E}[f(x)])(g(y)-\\mathbb{E}[g(y)])] $$\n",
    "\n",
    "### 3.10 Useful Properties of Common Functions\n",
    "\n",
    "- **softplus**:\n",
    "\n",
    "$$\n",
    "\\zeta(x) = \\log(1+exp(x))\n",
    "$$\n",
    "\n",
    "- It is a smoothed or \"softened\" version of\n",
    "\n",
    "$$\n",
    "x^+ = max(0,x)\n",
    "$$"
   ]
  },
  {
   "cell_type": "code",
   "execution_count": 11,
   "metadata": {
    "collapsed": false
   },
   "outputs": [
    {
     "data": {
      "image/png": "[encoded data removed]",
      "text/plain": [
       "<matplotlib.figure.Figure at 0x110b658d0>"
      ]
     },
     "metadata": {},
     "output_type": "display_data"
    }
   ],
   "source": [
    "import random\n",
    "import numpy as np\n",
    "import matplotlib.pyplot as plt\n",
    "\n",
    "# This is a bit of magic to make matplotlib figures appear inline in the\n",
    "# notebook rather than in a new window.\n",
    "%matplotlib inline\n",
    "plt.rcParams['figure.figsize'] = (10.0, 5.0) # set default size of plots\n",
    "plt.rcParams['image.interpolation'] = 'nearest'\n",
    "plt.rcParams['image.cmap'] = 'gray'\n",
    "\n",
    "def softplus(x):\n",
    "    return np.log(1+np.exp(x))\n",
    "\n",
    "x = np.linspace(-10, 10, 1000)\n",
    "plt.plot(x, softplus(x))\n",
    "plt.xlabel('$x$')\n",
    "plt.ylabel('$\\zeta(x)$')\n",
    "plt.show()"
   ]
  },
  {
   "cell_type": "markdown",
   "metadata": {},
   "source": [
    "- properties need to memorize\n",
    "\n",
    "$$\\sigma (x) = \\frac {exp(x)}{exp(x) + exp(0)}$$\n",
    "\n",
    "$$\\frac{d}{dx}\\sigma(x)=\\sigma(x)(1-\\sigma(x))$$\n",
    "\n",
    "$$1-\\sigma(x) = \\sigma(-x)$$\n",
    "\n",
    "$$\\log \\sigma(x) = -\\zeta(-x)$$\n",
    "\n",
    "$$\\frac{d}{dx}\\zeta(x)=\\sigma(x)$$\n",
    "\n",
    "$$\\forall x \\in (0,1), \\sigma^{-1}(x) = \\log(\\frac{x}{1-x})$$\n",
    "\n",
    "$$\\forall x>0, \\zeta^{-1}(x) = \\log(exp(x)-1)$$\n",
    "\n",
    "$$\\zeta(x)=\\int_{-\\infty}^x \\sigma(y)dy$$\n",
    "\n",
    "$$\\zeta(x)-\\zeta(-x)=x$$"
   ]
  }
 ],
 "metadata": {
  "kernelspec": {
   "display_name": "Python 2",
   "language": "python",
   "name": "python2"
  },
  "language_info": {
   "codemirror_mode": {
    "name": "ipython",
    "version": 2
   },
   "file_extension": ".py",
   "mimetype": "text/x-python",
   "name": "python",
   "nbconvert_exporter": "python",
   "pygments_lexer": "ipython2",
   "version": "2.7.13"
  }
 },
 "nbformat": 4,
 "nbformat_minor": 2
}
